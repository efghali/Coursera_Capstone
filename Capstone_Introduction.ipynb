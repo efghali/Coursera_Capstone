{
 "cells": [
  {
   "cell_type": "markdown",
   "id": "347532c1-5912-47eb-ad23-7da295e1e330",
   "metadata": {},
   "source": [
    "## Applied Data Science Capstone"
   ]
  },
  {
   "cell_type": "markdown",
   "id": "6a888c29-3fea-4baf-bac8-75f4fd31dceb",
   "metadata": {},
   "source": [
    "### Capstone Project"
   ]
  },
  {
   "cell_type": "markdown",
   "id": "11ec5c7c-2934-486c-9d85-b7ba4adaa4bf",
   "metadata": {},
   "source": [
    "### Business Problem"
   ]
  },
  {
   "cell_type": "markdown",
   "id": "c2c0b44f-b371-4054-b500-0342df2b42a6",
   "metadata": {},
   "source": [
    "Our client is a European coffee shops chain planning to expand its business and open several shops in major US cities.\n",
    "For many years our client has dominated the coffee shop industry in some European cities like Paris, Bruxelle and Milano to name few. But their revenue has been stable in the last two years and their management is under pressure by the shareholders.\n",
    "So the client is looking for new markets to increase revenues and grow the business."
   ]
  },
  {
   "cell_type": "markdown",
   "id": "5ffd5216-e8ab-4a8a-98b4-b4e271e3637a",
   "metadata": {},
   "source": [
    "### Scope of Work"
   ]
  },
  {
   "cell_type": "markdown",
   "id": "cf3e9003-b094-46ae-a357-cd9301305fd4",
   "metadata": {},
   "source": [
    "As a start, we have been tasked to analyze the coffee shops industry in the downtown Chicago area to determine useful information like:\n",
    "1. The location of the coffee shops in downtown Chicago neighborhoods.\n",
    "2. The major coffee chains that should be considered as competitors.\n",
    "3. Ratings of the major coffee shops venues.\n",
    "4. Exploration of Starbucks neighboring venues knowing that it is the top US chain and implement a proven real estate strategy."
   ]
  },
  {
   "cell_type": "code",
   "execution_count": null,
   "id": "e46d7072-b696-4c07-a7db-b61dca4e0698",
   "metadata": {},
   "outputs": [],
   "source": []
  }
 ],
 "metadata": {
  "kernelspec": {
   "display_name": "Python 3",
   "language": "python",
   "name": "python3"
  },
  "language_info": {
   "codemirror_mode": {
    "name": "ipython",
    "version": 3
   },
   "file_extension": ".py",
   "mimetype": "text/x-python",
   "name": "python",
   "nbconvert_exporter": "python",
   "pygments_lexer": "ipython3",
   "version": "3.8.8"
  }
 },
 "nbformat": 4,
 "nbformat_minor": 5
}
