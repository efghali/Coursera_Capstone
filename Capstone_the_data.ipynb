{
 "cells": [
  {
   "cell_type": "markdown",
   "id": "2859a251-bbc3-4095-8021-4afb814e0db1",
   "metadata": {},
   "source": [
    "## The Data"
   ]
  },
  {
   "cell_type": "markdown",
   "id": "085b85e6-e18f-49dd-9abc-4a9aa7e26f25",
   "metadata": {},
   "source": [
    "### The Neiborhoods Data"
   ]
  },
  {
   "cell_type": "markdown",
   "id": "3fb59961-11fd-496d-8969-c3812e74140c",
   "metadata": {},
   "source": [
    "we will collect the coordinates of downtown Chicago and its surrounding neighborhoods using Nominatim from geopy.geocoders library."
   ]
  },
  {
   "cell_type": "markdown",
   "id": "d53a0919-cbc7-4bae-acae-c3017e99d7b3",
   "metadata": {},
   "source": [
    "### Downtown Chicago coffee shops "
   ]
  },
  {
   "cell_type": "markdown",
   "id": "036ad22e-7a81-4a92-b302-f3ffb94686fb",
   "metadata": {},
   "source": [
    "To get the data about downtown Chicago coffee shops, we query the string \"coffee shop\" using Foursquare API for each of the neighborhoods. Then, we transform the resulting JSON file into a pandas dataframe.\n",
    "Now, we can explore our data which includes: the shop name, location, category and ID. Eventually, Starbucks has by far the greatest number of branches.\n",
    "We can also extract from Foursquare API each coffee shop's rating which helps us understand the consumers' sentiments about the competition in Chicago."
   ]
  },
  {
   "cell_type": "markdown",
   "id": "4b6b4a88-c2a5-404b-b654-9493a457402e",
   "metadata": {},
   "source": [
    "### Starbucks Data"
   ]
  },
  {
   "cell_type": "markdown",
   "id": "0e62ea7f-618d-46ea-a3b6-50258e66b1b3",
   "metadata": {},
   "source": [
    "Since Starbucks is the coffee shops industry leader, it is beneficial to explore its business in downtown Chicago. Starbucks is also known to have a successful real estate strategy as the decision makers invest largely in getting the best locations in any metropolitan area. With Foursquare API, we can get insights by gathering data like Starbucks locations, main categories of neighboring venues, branches ratings and more."
   ]
  },
  {
   "cell_type": "markdown",
   "id": "aab40bbb-17c3-4311-9fbf-d05cf854d8f8",
   "metadata": {},
   "source": [
    "### Conclusion"
   ]
  },
  {
   "cell_type": "markdown",
   "id": "73aa4c9e-9dda-4a53-b900-a0dfc58dd0a0",
   "metadata": {},
   "source": [
    "Exploring the data available from Foursquare API will give us great insights that will help analyze the coffee shop industry in Chicago to solve our clients need."
   ]
  },
  {
   "cell_type": "code",
   "execution_count": null,
   "id": "8c33e5d1-199f-4a31-9969-1f3660b6ea6b",
   "metadata": {},
   "outputs": [],
   "source": []
  }
 ],
 "metadata": {
  "kernelspec": {
   "display_name": "Python 3",
   "language": "python",
   "name": "python3"
  },
  "language_info": {
   "codemirror_mode": {
    "name": "ipython",
    "version": 3
   },
   "file_extension": ".py",
   "mimetype": "text/x-python",
   "name": "python",
   "nbconvert_exporter": "python",
   "pygments_lexer": "ipython3",
   "version": "3.8.8"
  }
 },
 "nbformat": 4,
 "nbformat_minor": 5
}
