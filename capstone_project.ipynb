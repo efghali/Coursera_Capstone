{
 "cells": [
  {
   "cell_type": "markdown",
   "id": "38f89438-9f02-49b0-8b46-cb4d156929f2",
   "metadata": {},
   "source": [
    "# Capstone Project\n",
    "## IBM Data Science Professional Specialization"
   ]
  },
  {
   "cell_type": "markdown",
   "id": "fec3aa7d-bc35-4287-a1bb-751f2a072242",
   "metadata": {},
   "source": [
    "__Code for importing libraries__"
   ]
  },
  {
   "cell_type": "code",
   "execution_count": 1,
   "id": "b53a8d8f-e9b4-40f1-9102-4f40f8a111c5",
   "metadata": {},
   "outputs": [],
   "source": [
    "import pandas as pd\n",
    "import numpy as np"
   ]
  },
  {
   "cell_type": "code",
   "execution_count": 3,
   "id": "284cb4f8-1f20-443c-925c-53a6ed66484d",
   "metadata": {},
   "outputs": [
    {
     "name": "stdout",
     "output_type": "stream",
     "text": [
      "Hello Capstone Project Course!\n"
     ]
    }
   ],
   "source": [
    "print('Hello Capstone Project Course!')"
   ]
  }
 ],
 "metadata": {
  "kernelspec": {
   "display_name": "Python 3 (ipykernel)",
   "language": "python",
   "name": "python3"
  },
  "language_info": {
   "codemirror_mode": {
    "name": "ipython",
    "version": 3
   },
   "file_extension": ".py",
   "mimetype": "text/x-python",
   "name": "python",
   "nbconvert_exporter": "python",
   "pygments_lexer": "ipython3",
   "version": "3.9.1"
  }
 },
 "nbformat": 4,
 "nbformat_minor": 5
}
